{
 "cells": [
  {
   "cell_type": "code",
   "execution_count": 1,
   "metadata": {},
   "outputs": [],
   "source": [
    "# Author : SYH\n",
    "# Date   : 2018-10-3\n",
    "# Task   : Minimal_I_Map for PGM course assigment 2 prob. 3"
   ]
  },
  {
   "cell_type": "code",
   "execution_count": 2,
   "metadata": {
    "scrolled": true
   },
   "outputs": [],
   "source": [
    "n = 4\n",
    "\n",
    "data0 = [2,18,8,72]\n",
    "data1 = [0.0096,0.0144,0.0224,0.0336,0.004,0.004,0.006,0.006,0.216,0.144,0.216,0.144,0.0756,0.0324,0.0504,0.0216]\n",
    "data2 = [360000,600,36000,3600,600,100000,60,600000,6000,10,900,90,600,100000,90,900000]\n",
    "\n",
    "data = data1\n",
    "if data is data0:\n",
    "    n = 2\n"
   ]
  },
  {
   "cell_type": "code",
   "execution_count": 3,
   "metadata": {},
   "outputs": [
    {
     "name": "stdout",
     "output_type": "stream",
     "text": [
      "[(1, 0, 12), (3, 2, 0)]\n",
      "2\n"
     ]
    }
   ],
   "source": [
    "import numpy as np\n",
    "\n",
    "def is_independent(x, y, cond):\n",
    "    tmp = np.zeros([2,2,1 << n])\n",
    "    for i in range(1 << n):\n",
    "        tmp[0 if (i & (1 << x) == 0) else 1][0 if (i & (1 << y) == 0) else 1][i & cond] += data[i]\n",
    "    for k in range(1 << n):\n",
    "        for i in range(2):\n",
    "            for j in range(2):\n",
    "                a = tmp[i][j][k] \n",
    "                b = tmp[i^1][j][k]\n",
    "                c = tmp[i][j^1][k]\n",
    "                d = tmp[i^1][j^1][k]\n",
    "                if np.abs(a * (a + b + c + d) - (a + b) * (a + c)) > a * (a + b + c + d) * 0.001:\n",
    "                    return False\n",
    "    return True\n",
    "    \n",
    "ind_list = []\n",
    "for i in range(n):\n",
    "    for j in range(i):\n",
    "        for cond in range(1 << n):\n",
    "            if (cond & (1<<i) == 0) and (cond & (1<<j) == 0):\n",
    "                if is_independent(i , j, cond):\n",
    "                    ind_list.append((i, j, cond))\n",
    "                \n",
    "print(ind_list)\n",
    "print(len(ind_list))"
   ]
  },
  {
   "cell_type": "code",
   "execution_count": 5,
   "metadata": {},
   "outputs": [
    {
     "name": "stdout",
     "output_type": "stream",
     "text": [
      "D ind C, in condition BA\n",
      "\n",
      "B ind A, in condition \n",
      "\n"
     ]
    }
   ],
   "source": [
    "for i in range(len(ind_list)):\n",
    "    tmp = ind_list[i]\n",
    "    cond = tmp[2]\n",
    "    print('%c ind %c, in condition '% (chr(n-tmp[0]+ord('A')-1),chr(n-tmp[1]+ord('A')-1)) , end='')\n",
    "    for j in range(n):\n",
    "        if (1 << j) & cond != 0:\n",
    "            print('%c' % chr(n-j+ord('A')-1), end='')\n",
    "    print('\\n')\n",
    "    "
   ]
  },
  {
   "cell_type": "code",
   "execution_count": null,
   "metadata": {},
   "outputs": [],
   "source": []
  },
  {
   "cell_type": "code",
   "execution_count": null,
   "metadata": {
    "collapsed": true
   },
   "outputs": [],
   "source": []
  }
 ],
 "metadata": {
  "kernelspec": {
   "display_name": "Python 3",
   "language": "python",
   "name": "python3"
  }
 },
 "nbformat": 4,
 "nbformat_minor": 2
}
